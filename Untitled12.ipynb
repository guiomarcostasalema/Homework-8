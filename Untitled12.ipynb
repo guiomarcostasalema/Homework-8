{
  "nbformat": 4,
  "nbformat_minor": 0,
  "metadata": {
    "colab": {
      "provenance": []
    },
    "kernelspec": {
      "name": "python3",
      "display_name": "Python 3"
    },
    "language_info": {
      "name": "python"
    }
  },
  "cells": [
    {
      "cell_type": "markdown",
      "source": [
        "Using the requests and BeautifulSoup libraries to scrape the data:"
      ],
      "metadata": {
        "id": "3BsxHINMCGBF"
      }
    },
    {
      "cell_type": "code",
      "execution_count": 1,
      "metadata": {
        "colab": {
          "base_uri": "https://localhost:8080/"
        },
        "id": "U9B-OByL-iXC",
        "outputId": "d3dc6a0b-b569-40ea-e09a-66c6a026aed3"
      },
      "outputs": [
        {
          "output_type": "stream",
          "name": "stdout",
          "text": [
            "Looking in indexes: https://pypi.org/simple, https://us-python.pkg.dev/colab-wheels/public/simple/\n",
            "Requirement already satisfied: requests in /usr/local/lib/python3.10/dist-packages (2.27.1)\n",
            "Requirement already satisfied: beautifulsoup4 in /usr/local/lib/python3.10/dist-packages (4.11.2)\n",
            "Requirement already satisfied: wordcloud in /usr/local/lib/python3.10/dist-packages (1.8.2.2)\n",
            "Requirement already satisfied: matplotlib in /usr/local/lib/python3.10/dist-packages (3.7.1)\n",
            "Requirement already satisfied: urllib3<1.27,>=1.21.1 in /usr/local/lib/python3.10/dist-packages (from requests) (1.26.16)\n",
            "Requirement already satisfied: certifi>=2017.4.17 in /usr/local/lib/python3.10/dist-packages (from requests) (2023.5.7)\n",
            "Requirement already satisfied: charset-normalizer~=2.0.0 in /usr/local/lib/python3.10/dist-packages (from requests) (2.0.12)\n",
            "Requirement already satisfied: idna<4,>=2.5 in /usr/local/lib/python3.10/dist-packages (from requests) (3.4)\n",
            "Requirement already satisfied: soupsieve>1.2 in /usr/local/lib/python3.10/dist-packages (from beautifulsoup4) (2.4.1)\n",
            "Requirement already satisfied: numpy>=1.6.1 in /usr/local/lib/python3.10/dist-packages (from wordcloud) (1.22.4)\n",
            "Requirement already satisfied: pillow in /usr/local/lib/python3.10/dist-packages (from wordcloud) (8.4.0)\n",
            "Requirement already satisfied: contourpy>=1.0.1 in /usr/local/lib/python3.10/dist-packages (from matplotlib) (1.1.0)\n",
            "Requirement already satisfied: cycler>=0.10 in /usr/local/lib/python3.10/dist-packages (from matplotlib) (0.11.0)\n",
            "Requirement already satisfied: fonttools>=4.22.0 in /usr/local/lib/python3.10/dist-packages (from matplotlib) (4.40.0)\n",
            "Requirement already satisfied: kiwisolver>=1.0.1 in /usr/local/lib/python3.10/dist-packages (from matplotlib) (1.4.4)\n",
            "Requirement already satisfied: packaging>=20.0 in /usr/local/lib/python3.10/dist-packages (from matplotlib) (23.1)\n",
            "Requirement already satisfied: pyparsing>=2.3.1 in /usr/local/lib/python3.10/dist-packages (from matplotlib) (3.1.0)\n",
            "Requirement already satisfied: python-dateutil>=2.7 in /usr/local/lib/python3.10/dist-packages (from matplotlib) (2.8.2)\n",
            "Requirement already satisfied: six>=1.5 in /usr/local/lib/python3.10/dist-packages (from python-dateutil>=2.7->matplotlib) (1.16.0)\n"
          ]
        }
      ],
      "source": [
        "pip install requests beautifulsoup4 wordcloud matplotlib"
      ]
    },
    {
      "cell_type": "markdown",
      "source": [
        "Defining a function to scrape the article data:"
      ],
      "metadata": {
        "id": "syHv5HneCa8S"
      }
    },
    {
      "cell_type": "code",
      "source": [
        "import requests\n",
        "from bs4 import BeautifulSoup"
      ],
      "metadata": {
        "id": "nO23l0Vy-nyv"
      },
      "execution_count": 2,
      "outputs": []
    },
    {
      "cell_type": "code",
      "source": [
        "def scrape_articles():\n",
        "    base_url = 'https://www.cmjornal.pt'\n",
        "    category_url = base_url + '/maissobre/crime'\n",
        "    headers = {\n",
        "        'User-Agent': 'Mozilla/5.0 (Windows NT 10.0; Win64; x64) AppleWebKit/537.36 (KHTML, like Gecko) Chrome/58.0.3029.110 Safari/537.3'}\n",
        "\n",
        "    articles = []\n",
        "\n",
        "    response = requests.get(category_url, headers=headers)\n",
        "\n",
        "    if response.status_code == 200:\n",
        "        soup = BeautifulSoup(response.text, 'html.parser')\n",
        "        article_links = soup.select('.content-list .title a')\n",
        "\n",
        "        for link in article_links:\n",
        "            article_url = base_url + link['href']\n",
        "            article_response = requests.get(article_url, headers=headers)\n",
        "            article_soup = BeautifulSoup(article_response.text, 'html.parser')\n",
        "\n",
        "            title = article_soup.select_one('.artTitle').text.strip()\n",
        "            content = ' '.join([p.text for p in article_soup.select('.texto_artigo p')])\n",
        "            publication_datetime = article_soup.select_one('.data-hora').text.strip()\n",
        "\n",
        "            articles.append({\n",
        "                'title': title,\n",
        "                'content': content,\n",
        "                'publication_datetime': publication_datetime\n",
        "            })\n",
        "\n",
        "    return articles"
      ],
      "metadata": {
        "id": "4d3vR4VDDUZ2"
      },
      "execution_count": 39,
      "outputs": []
    },
    {
      "cell_type": "markdown",
      "source": [
        "Collecting the article data for two days by modifying the scrape articles function and calculating the article count per day and per hour:"
      ],
      "metadata": {
        "id": "5u9rSUSDCluI"
      }
    },
    {
      "cell_type": "code",
      "source": [
        "import datetime"
      ],
      "metadata": {
        "id": "dLcdlZXh-2nr"
      },
      "execution_count": 5,
      "outputs": []
    },
    {
      "cell_type": "code",
      "source": [
        "def collect_data():\n",
        "    articles = scrape_articles()\n",
        "    article_count_per_day = {}\n",
        "    article_count_per_hour = {}\n",
        "\n",
        "    for article in articles:\n",
        "        publication_datetime = datetime.datetime.fromisoformat(article['publication_datetime'])\n",
        "        date = publication_datetime.date()\n",
        "        hour = publication_datetime.hour\n",
        "\n",
        "        # Count articles per day\n",
        "        if date in article_count_per_day:\n",
        "            article_count_per_day[date] += 1\n",
        "        else:\n",
        "            article_count_per_day[date] = 1\n",
        "\n",
        "        # Count articles per hour\n",
        "        if hour in article_count_per_hour:\n",
        "            article_count_per_hour[hour] += 1\n",
        "        else:\n",
        "            article_count_per_hour[hour] = 1\n",
        "\n",
        "    return articles, article_count_per_day, article_count_per_hour\n",
        "\n",
        "articles, article_count_per_day, article_count_per_hour = collect_data()"
      ],
      "metadata": {
        "id": "ggzjuuI2-8XC"
      },
      "execution_count": 6,
      "outputs": []
    },
    {
      "cell_type": "code",
      "source": [
        "import matplotlib.pyplot as plt"
      ],
      "metadata": {
        "id": "3iAWV9wt_01Y"
      },
      "execution_count": 10,
      "outputs": []
    },
    {
      "cell_type": "code",
      "source": [
        "def plot_articles_per_day(article_count_per_day):\n",
        "    dates = list(article_count_per_day.keys())\n",
        "    counts = list(article_count_per_day.values())\n",
        "\n",
        "    plt.bar(dates, counts)\n",
        "    plt.xlabel('Date')\n",
        "    plt.ylabel('Number of Articles')\n",
        "    plt.title('Number of Articles per Day')\n",
        "    plt.xticks(rotation=45)\n",
        "    plt.show()"
      ],
      "metadata": {
        "id": "tFRN4Q8G_58T"
      },
      "execution_count": 11,
      "outputs": []
    },
    {
      "cell_type": "code",
      "source": [
        "plot_articles_per_day(article_count_per_day)"
      ],
      "metadata": {
        "colab": {
          "base_uri": "https://localhost:8080/",
          "height": 497
        },
        "id": "3Ax-soiR_8au",
        "outputId": "43eac937-4269-4808-9a16-9f2439d138f9"
      },
      "execution_count": 12,
      "outputs": [
        {
          "output_type": "display_data",
          "data": {
            "text/plain": [
              "<Figure size 640x480 with 1 Axes>"
            ],
            "image/png": "[encoded data removed]"
          },
          "metadata": {}
        }
      ]
    },
    {
      "cell_type": "code",
      "source": [
        "def plot_articles_per_hour(article_count_per_hour):\n",
        "    hours = list(article_count_per_hour.keys())\n",
        "    counts = list(article_count_per_hour.values())\n",
        "\n",
        "    plt.plot(hours, counts, marker='o')\n",
        "    plt.xlabel('Hour')\n",
        "    plt.ylabel('Number of Articles')\n",
        "    plt.title('Number of Articles per Hour')\n",
        "    plt.xticks(range(24))\n",
        "    plt.grid(True)\n",
        "    plt.show()"
      ],
      "metadata": {
        "id": "7HSmoH44AJus"
      },
      "execution_count": 15,
      "outputs": []
    },
    {
      "cell_type": "code",
      "source": [
        "plot_articles_per_hour(article_count_per_hour)"
      ],
      "metadata": {
        "colab": {
          "base_uri": "https://localhost:8080/",
          "height": 472
        },
        "id": "dPaYtwEPAQG1",
        "outputId": "690ab1df-5312-4698-cb40-08cce3f733b5"
      },
      "execution_count": 17,
      "outputs": [
        {
          "output_type": "display_data",
          "data": {
            "text/plain": [
              "<Figure size 640x480 with 1 Axes>"
            ],
            "image/png": "[encoded data removed]"
          },
          "metadata": {}
        }
      ]
    },
    {
      "cell_type": "code",
      "source": [
        "from wordcloud import WordCloud"
      ],
      "metadata": {
        "id": "TK_1si_aAX8X"
      },
      "execution_count": 18,
      "outputs": []
    },
    {
      "cell_type": "code",
      "source": [
        "def generate_wordcloud(text):\n",
        "    wordcloud = WordCloud(width=800, height=400, background_color='white').generate(text)\n",
        "\n",
        "    plt.figure(figsize=(10, 5))\n",
        "    plt.imshow(wordcloud, interpolation='bilinear')\n",
        "    plt.axis('off')\n",
        "    plt.show()"
      ],
      "metadata": {
        "id": "3Y-L5tSIAchQ"
      },
      "execution_count": 19,
      "outputs": []
    },
    {
      "cell_type": "code",
      "source": [
        "def generate_wordclouds(articles):\n",
        "    for article in articles:\n",
        "      generate_wordcloud(article['content'])"
      ],
      "metadata": {
        "id": "E3hwQpoyAeB7"
      },
      "execution_count": 22,
      "outputs": []
    },
    {
      "cell_type": "code",
      "source": [
        "generate_wordclouds(articles)"
      ],
      "metadata": {
        "id": "dJFlwpWhAf-N"
      },
      "execution_count": 23,
      "outputs": []
    }
  ]
}